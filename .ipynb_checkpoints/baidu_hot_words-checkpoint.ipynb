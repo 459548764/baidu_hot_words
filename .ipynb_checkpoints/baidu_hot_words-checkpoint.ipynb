{
 "cells": [
  {
   "cell_type": "markdown",
   "metadata": {
    "collapsed": true
   },
   "source": [
    "## 百度新闻热搜词抓取\n",
    "\n",
    "原抓取网址为：[http://news.baidu.com/n?cmd=1&class=reci](http://news.baidu.com/n?cmd=1&class=reci)\n",
    "\n",
    "Github代码：[点击访问](https://github.com/gaussic/baidu_hot_words)\n",
    "\n",
    "#### 接口与参数\n",
    "\n",
    "接口的 `base_url` 为 [http://news.baidu.com/n?m=rddata&v=hot_word](http://news.baidu.com/n?m=rddata&v=hot_word)\n",
    "\n",
    "带两个参数\n",
    "\n",
    "- type：0(全部)、2(国内)、1(国际)、5(社会)、14(军事)、6(财经)、10(汽车)、8(科技)、4(娱乐)、3(体育)\n",
    "- date：格式为 20160703、20160704、20160705，以此类推\n",
    "\n",
    "#### 使用 requests 抓取关键词数据:"
   ]
  },
  {
   "cell_type": "code",
   "execution_count": 1,
   "metadata": {},
   "outputs": [],
   "source": [
    "import requests  \n",
    "from bs4 import BeautifulSoup"
   ]
  },
  {
   "cell_type": "code",
   "execution_count": 2,
   "metadata": {},
   "outputs": [
    {
     "name": "stdout",
     "output_type": "stream",
     "text": [
      "http://news.baidu.com/n?m=rddata&v=hot_word&type=0\n",
      "习近平回信勉励[br]乌兰牧骑队员\n",
      "习近平致丝路沿线民间合作网络论坛贺信\n",
      "头颅[br]移植手术成功\n",
      "济州岛[br]迎中旅游团\n",
      "2018[br]全球强震或增\n",
      "趴折叠床[br]辅导学生\n",
      "国产直升机试飞成功\n",
      "中国在太平洋岛国投资基建\n",
      "无人售货纸箱亮相西南大学\n",
      "惠普CEO惠特曼将于明年初离职\n",
      "台风“玛娃”致广东多地暴雨 广州深圳等多市停课\n",
      "制鞋机器人问世！8小时能制造600双耐克鞋\n",
      "试飞危险吗？C919首飞机长这样说\n",
      "陕西彬县(塌陷)发生3.2级地震 震源深度0千米\n",
      "欲入中国籍替征战奥运 这位华裔美女闪亮全运赛场\n",
      "中国首个火星模拟基地总体方案敲定 总投资逾4亿元\n",
      "多个城市暂停投放共享单车 摩拜与ofo回应\n",
      "教师因\"鸡汤文\"成网红:从不崇拜所谓的高考状元\n",
      "飓风\"哈维\"导致美国得州近30万居民断电 暂无伤亡\n",
      "警惕！骗子盯上共享单车 通过假冒客服平台诈骗\n",
      "台湾年轻人对台失去信心转赴大陆：大陆才是未来\n",
      "呼和浩特街头现大量神翻译店名\n",
      "农业部回应食物农药残留\n",
      "农业部回应：欧洲“毒鸡蛋”未进入中国内地市场\n",
      "日战机对华紧急起飞数激增 4架战机对1架中国飞机\n",
      "全国将建2442公里红色旅游公路\n",
      "NHK自揭731细菌战暴行：首指日本医学界之罪\n",
      "大熊猫国家公园正式获批 总面积达27134平方公里\n",
      "76集团军特战部队在高原展开陆空联合演习\n",
      "江西挖出巨型阴沉木\n"
     ]
    }
   ],
   "source": [
    "# 基本Url\n",
    "base_url = 'http://news.baidu.com/n?m=rddata&v=hot_word'  \n",
    "hot_type = '0'\n",
    "\n",
    "parameters = {'type': hot_type}\n",
    "\n",
    "# 获取 JSON 数据\n",
    "r = requests.get(base_url, params=parameters)  \n",
    "print(r.url)\n",
    "\n",
    "hot_words_dict = r.json()\n",
    "\n",
    "# 输出热搜关键词\n",
    "for hot_word in hot_words_dict.get('data'):  \n",
    "    print(hot_word.get('query_word'))"
   ]
  },
  {
   "cell_type": "markdown",
   "metadata": {},
   "source": [
    "### 添加日期参数\n",
    "\n",
    "日期格式为 YYYYMMDD，如 20171122"
   ]
  },
  {
   "cell_type": "code",
   "execution_count": 3,
   "metadata": {
    "scrolled": false
   },
   "outputs": [
    {
     "name": "stdout",
     "output_type": "stream",
     "text": [
      "http://news.baidu.com/n?m=rddata&v=hot_word&date=20171122&type=2\n",
      "海南最牛副局长被双开\n",
      "婚姻登记下月起免费\n",
      " 记者访中央机关食堂\n",
      "高铁要调价了\n",
      "男子抓巨大\"土豪金\"鱼\n",
      "河南挖出500年前古墓\n",
      "大老虎自曝与女星情史\n",
      "南京南站男子被卡身亡\n",
      "香港将迎首位女特首\n",
      "女子让儿子停课晒太阳\n",
      "济南公安下属企业放贷\n",
      "女镇长拍写真走红\n",
      "24省下月同日省考\n",
      "厅长欲掏2亿买副省长\n",
      "中介为卖房和客户结婚\n",
      "东北最牛大学停飞机\n",
      "上海虹口体育场火灾\n",
      "济南最牛钉子户被拆\n",
      "复旦大学实验室爆炸\n",
      "日本最美女大学生\n",
      "北京未来15年规划\n",
      "女子无钱打车报警\n",
      "起底聊城讨债团队\n",
      "韩称遭中国网络攻击\n",
      "山东现国内最大金矿\n",
      "最牛妈妈两胎生五子\n",
      "护士怒怼医托\n",
      "3名中国人在菲遭绑架\n",
      "白洋淀搬迁每亩补6万\n",
      "习近平会见美国国务卿\n"
     ]
    }
   ],
   "source": [
    "hot_type = '2'   # 国内\n",
    "hot_date = '20171122'\n",
    "\n",
    "parameters = {'type': hot_type, 'date': hot_date}\n",
    "\n",
    "# 获取 JSON 数据\n",
    "r = requests.get(base_url, params=parameters)  \n",
    "print(r.url)\n",
    "\n",
    "hot_words_dict = r.json()\n",
    "\n",
    "# 输出热搜关键词\n",
    "for hot_word in hot_words_dict.get('data'):  \n",
    "    print(hot_word.get('query_word'))"
   ]
  },
  {
   "cell_type": "markdown",
   "metadata": {},
   "source": [
    "### 按关键词抓取新闻\n",
    "\n",
    "基本url为 [http://news.baidu.com/ns?tn=news](http://news.baidu.com/ns?tn=news)， 接参数 word 字段。"
   ]
  },
  {
   "cell_type": "code",
   "execution_count": 4,
   "metadata": {},
   "outputs": [
    {
     "name": "stdout",
     "output_type": "stream",
     "text": [
      "http://news.baidu.com/ns?tn=news&word=%E9%A6%99%E6%B8%AF%E5%B0%86%E8%BF%8E%E9%A6%96%E4%BD%8D%E5%A5%B3%E7%89%B9%E9%A6%96\n",
      "{\"链接\": \"http://news.163.com/17/0327/17/CGI6I4RV00018AOQ.html\", \"发布日期\": \"2017年03月27日\", \"标题\": \"香港将迎首位女特首:出身贫寒 曾因考第四名痛哭一晚}_《参考消息...\", \"来源\": \"网易\"}\n",
      "{\"链接\": \"http://news.china.com/domestic/945/20170327/30360029.html\", \"发布日期\": \"2017年03月27日\", \"标题\": \"香港将迎来首位女特首:出身贫寒 曾批“占中”\", \"来源\": \"中华网\"}\n",
      "{\"链接\": \"http://news.163.com/17/0326/22/CGG4QMGM0001875N.html\", \"发布日期\": \"2017年03月26日\", \"标题\": \"香港首位女特首被评\\\"实干派\\\" 曾批\\\"占中\\\"乱港\", \"来源\": \"网易\"}\n",
      "{\"链接\": \"http://www.donews.com/news/detail/4/2949453.html\", \"发布日期\": \"2017年03月26日\", \"标题\": \"香港或迎首位女特首 林郑月娥长子剑桥毕业小米任职\", \"来源\": \"DoNews\"}\n",
      "{\"链接\": \"http://www.cnbzol.com/news/20170327114934.htm\", \"发布日期\": \"2017年03月27日\", \"标题\": \"香港将迎来首位女特首 林郑月娥对港独态度强硬\", \"来源\": \"巴中在线\"}\n",
      "{\"链接\": \"http://www.mnw.cn/news/china/1645293-2.html\", \"发布日期\": \"2017年03月27日\", \"标题\": \"香港将迎首位女特首 林郑月娥个人简历资料照片(图)\", \"来源\": \"闽南网\"}\n",
      "{\"链接\": \"http://www.shuyang.tv/news/china/2017-03-27/208931.html\", \"发布日期\": \"2017年03月27日\", \"标题\": \"香港迎首位女特首\", \"来源\": \"沭阳网\"}\n",
      "{\"链接\": \"http://n.cztv.com/news/12468870.html\", \"发布日期\": \"2017年03月26日\", \"标题\": \"香港迎来首位女特首林郑月娥:寒门中苦读 作风果断民望高\", \"来源\": \"新蓝网\"}\n",
      "{\"链接\": \"http://news.sina.com.cn/o/2017-03-27/060433853302.shtml\", \"发布日期\": \"2017年03月27日\", \"标题\": \"香港回归20年来将有首位女特首\", \"来源\": \"新浪新闻\"}\n",
      "{\"链接\": \"http://news.163.com/17/0702/00/COA3HA1B00018AOP.html\", \"发布日期\": \"2017年07月02日\", \"标题\": \"她是香港回归以来首位女特首 将加强市民对特区政府的信任作为施政...\", \"来源\": \"网易\"}\n"
     ]
    }
   ],
   "source": [
    "query_word = '香港将迎首位女特首'  \n",
    "news_base_url = 'http://news.baidu.com/ns?tn=news'\n",
    "\n",
    "parameters = {'word': query_word}\n",
    "\n",
    "# 获取 JSON 数据\n",
    "r = requests.get(news_base_url, params=parameters)  \n",
    "print(r.url)\n",
    "\n",
    "soup = BeautifulSoup(r.text, 'lxml')   # lxml可以换成其他解析库\n",
    "news_html_list = soup.select('div.result')  \n",
    "news_list = []  \n",
    "for news_html in news_html_list:  \n",
    "    news = {}\n",
    "    news['标题'] = news_html.a.get_text().strip()\n",
    "    news['链接'] = news_html.a['href']\n",
    "    source = news_html.find('p', 'c-author').get_text().strip().replace('\\xa0\\xa0', ' ').split(' ')\n",
    "    news['来源'] = source[0]\n",
    "    news['发布日期'] = source[1]\n",
    "\n",
    "    news_list.append(news)\n",
    "\n",
    "import json\n",
    "for news in news_list:\n",
    "    print(json.dumps(news, ensure_ascii=False))"
   ]
  }
 ],
 "metadata": {
  "kernelspec": {
   "display_name": "Python 3",
   "language": "python",
   "name": "python3"
  },
  "language_info": {
   "codemirror_mode": {
    "name": "ipython",
    "version": 3
   },
   "file_extension": ".py",
   "mimetype": "text/x-python",
   "name": "python",
   "nbconvert_exporter": "python",
   "pygments_lexer": "ipython3",
   "version": "3.5.3"
  }
 },
 "nbformat": 4,
 "nbformat_minor": 1
}
